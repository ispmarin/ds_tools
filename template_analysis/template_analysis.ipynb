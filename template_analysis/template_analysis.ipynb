{
 "cells": [
  {
   "cell_type": "code",
   "execution_count": 1,
   "metadata": {
    "collapsed": false
   },
   "outputs": [
    {
     "name": "stdout",
     "output_type": "stream",
     "text": [
      "Collecting xlrd\n",
      "/home/ispmarin/.virtualenvs/mobilidade/local/lib/python2.7/site-packages/pip/_vendor/requests/packages/urllib3/util/ssl_.py:90: InsecurePlatformWarning: A true SSLContext object is not available. This prevents urllib3 from configuring SSL appropriately and may cause certain SSL connections to fail. For more information, see https://urllib3.readthedocs.org/en/latest/security.html#insecureplatformwarning.\n",
      "  InsecurePlatformWarning\n",
      "  Using cached xlrd-0.9.4.tar.gz\n",
      "Installing collected packages: xlrd\n",
      "  Running setup.py install for xlrd\n",
      "Successfully installed xlrd-0.9.4\n"
     ]
    }
   ],
   "source": [
    "!pip install xlrd"
   ]
  },
  {
   "cell_type": "code",
   "execution_count": 2,
   "metadata": {
    "collapsed": true
   },
   "outputs": [],
   "source": [
    "%matplotlib inline\n",
    "\n",
    "import os\n",
    "import pandas as pd\n",
    "import matplotlib\n",
    "import matplotlib.pyplot as plt\n",
    "import numpy as np"
   ]
  },
  {
   "cell_type": "code",
   "execution_count": 3,
   "metadata": {
    "collapsed": false
   },
   "outputs": [],
   "source": [
    "# General Parameters\n",
    "plt.rcParams['figure.figsize'] = (10.0, 8.0)\n",
    "matplotlib.style.use('ggplot')"
   ]
  },
  {
   "cell_type": "code",
   "execution_count": 8,
   "metadata": {
    "collapsed": true
   },
   "outputs": [],
   "source": [
    "# Project Parameters\n",
    "data_date = '20160105'\n",
    "sample = False\n",
    "dask = False\n",
    "date_format = '%Y%m%d%H%M%S%f'"
   ]
  },
  {
   "cell_type": "code",
   "execution_count": 9,
   "metadata": {
    "collapsed": false
   },
   "outputs": [],
   "source": [
    "project_path = '/home/ispmarin/projects/mobilidade/'\n",
    "data_dir = 'data'\n",
    "results_dir = 'results'\n",
    "sample_dir = 'sample'\n",
    "\n",
    "geo_erb = 'erbs_20151117.xlsx'\n",
    "\n",
    "data_path = os.path.join(project_path, data_dir, data_date)\n",
    "\n",
    "if sample:\n",
    "    data_path = os.path.join(data_path, sample_dir)\n",
    "\n",
    "geo_erb_filename = os.path.join(data_path, geo_erb)\n"
   ]
  },
  {
   "cell_type": "code",
   "execution_count": 10,
   "metadata": {
    "collapsed": false
   },
   "outputs": [],
   "source": [
    "geoerb_df = pd.read_excel(geo_erb_filename)"
   ]
  },
  {
   "cell_type": "code",
   "execution_count": 14,
   "metadata": {
    "collapsed": false
   },
   "outputs": [],
   "source": [
    "geoerb_df.columns = geoerb_df.columns.str.lower()"
   ]
  },
  {
   "cell_type": "code",
   "execution_count": 20,
   "metadata": {
    "collapsed": false
   },
   "outputs": [
    {
     "data": {
      "text/plain": [
       "Index([u'objectid_12', u'objectid', u'seq_site', u'sigla', u'nm_equip', u'mgw',\n",
       "       u'ccc_mgc', u'cd_ccc', u'nr_fat_central', u'cd_erb_rentab',\n",
       "       u'bsc_dadoos', u'bsc', u'tecnologia', u'banda_operacao', u'filiacao',\n",
       "       u'site', u'tipo_site', u'municipio', u'ddd', u'distrito', u'cod_ibge',\n",
       "       u'cnl', u'estado', u'endereco', u'bairro', u'fabricante', u'modelo',\n",
       "       u'sitar', u'dnfi', u'custo', u'id_fin', u'ativacao', u'desativacao',\n",
       "       u'situacao', u'cobertura', u'atendimento', u'latitude', u'longitude',\n",
       "       u'siglabsc', u'responsavel', u'fornecedor', u'instalador', u'n_fat_erb',\n",
       "       u'n_spic', u'ddd_fronteira', u'sigla_site', u'sigla_antiga',\n",
       "       u'pendencia_manut', u'desc_pendencia', u'tec', u'cd_ccc_ok',\n",
       "       u'filiacao_ok', u'sigla_erb', u'lati_ok', u'long_ok',\n",
       "       u'flag_cobertura_4g', u'objectid_1', u'id', u'cd_geocodi',\n",
       "       u'cd_geocodm', u'area_sp', u'area_4g', u'area_3g', u'area_4g_in',\n",
       "       u'area_3g_in', u'flag_2k_sky', u'flag_4k_sky', u'cd_uf', u'area_gvt',\n",
       "       u'cd_distrito', u'distrito_nm', u'municipio_nm'],\n",
       "      dtype='object')"
      ]
     },
     "execution_count": 20,
     "metadata": {},
     "output_type": "execute_result"
    }
   ],
   "source": [
    "geoerb_df.columns"
   ]
  },
  {
   "cell_type": "code",
   "execution_count": 30,
   "metadata": {
    "collapsed": false
   },
   "outputs": [
    {
     "data": {
      "text/plain": [
       "13858    56955\n",
       "13859    56955\n",
       "13860    57008\n",
       "13863    57008\n",
       "13864    57017\n",
       "13867    57017\n",
       "13868    57019\n",
       "13869    57019\n",
       "13870    57019\n",
       "13873    57027\n",
       "13874    57027\n",
       "13875    57044\n",
       "14861    56838\n",
       "14862    56795\n",
       "14863    56822\n",
       "14864    56961\n",
       "14865    57261\n",
       "14866    56849\n",
       "14867    56894\n",
       "14868    56924\n",
       "14869    56927\n",
       "14870    56949\n",
       "14871    57091\n",
       "14872    57119\n",
       "14873    57129\n",
       "14874    57156\n",
       "14875    57185\n",
       "14876    57196\n",
       "14877    57206\n",
       "14878    57308\n",
       "         ...  \n",
       "21720    64807\n",
       "21724    64807\n",
       "21725    64807\n",
       "21764    64845\n",
       "21765    64845\n",
       "21766    64845\n",
       "21767    64845\n",
       "21802    65124\n",
       "21803    65133\n",
       "21804    65145\n",
       "21805    65145\n",
       "21806    65264\n",
       "21807    65279\n",
       "21808    65279\n",
       "21809    65295\n",
       "21810    65295\n",
       "21811    65310\n",
       "21812    66395\n",
       "21813    66395\n",
       "21818    66421\n",
       "21819    66430\n",
       "21820    66430\n",
       "21821    66648\n",
       "21822    66648\n",
       "21827    66836\n",
       "21828    66854\n",
       "21829    66854\n",
       "21830    66899\n",
       "21831    66899\n",
       "21832    66950\n",
       "Name: id, dtype: int64"
      ]
     },
     "execution_count": 30,
     "metadata": {},
     "output_type": "execute_result"
    }
   ],
   "source": [
    "geoerb_df[geoerb_df.cod_ibge == '3304557']['id']"
   ]
  },
  {
   "cell_type": "code",
   "execution_count": null,
   "metadata": {
    "collapsed": true
   },
   "outputs": [],
   "source": []
  }
 ],
 "metadata": {
  "kernelspec": {
   "display_name": "Python 2",
   "language": "python",
   "name": "python2"
  },
  "language_info": {
   "codemirror_mode": {
    "name": "ipython",
    "version": 2
   },
   "file_extension": ".py",
   "mimetype": "text/x-python",
   "name": "python",
   "nbconvert_exporter": "python",
   "pygments_lexer": "ipython2",
   "version": "2.7.6"
  }
 },
 "nbformat": 4,
 "nbformat_minor": 0
}
